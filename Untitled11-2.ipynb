{
 "cells": [
  {
   "cell_type": "code",
   "execution_count": 24,
   "id": "38cd4932",
   "metadata": {},
   "outputs": [],
   "source": [
    "import pandas as pd\n",
    "from sklearn.model_selection import train_test_split\n",
    "from sklearn.preprocessing import StandardScaler\n",
    "from sklearn.naive_bayes import GaussianNB\n",
    "from sklearn.svm import SVC\n",
    "from imblearn.over_sampling import RandomOverSampler\n",
    "from sklearn.naive_bayes import MultinomialNB\n",
    "from sklearn.ensemble import RandomForestClassifier\n",
    "from sklearn.metrics import classification_report\n",
    "from sklearn.metrics import accuracy_score"
   ]
  },
  {
   "cell_type": "code",
   "execution_count": 25,
   "id": "392e4352",
   "metadata": {},
   "outputs": [],
   "source": [
    "# Load the dataset\n",
    "# Assuming 'wgr_data.csv' as the dataset file name\n",
    "wgr_data=pd.read_csv(\"C:/Users/anany/Downloads/GlobalWeatherRepository.csv\") #reading train data"
   ]
  },
  {
   "cell_type": "code",
   "execution_count": 26,
   "id": "87ec7f47",
   "metadata": {},
   "outputs": [],
   "source": [
    "# Select features (X) and target variable (y)\n",
    "X = wgr_data.drop('air_quality_us-epa-index', axis=1)\n",
    "y = wgr_data['air_quality_us-epa-index']"
   ]
  },
  {
   "cell_type": "code",
   "execution_count": 27,
   "id": "c5d3622c",
   "metadata": {},
   "outputs": [],
   "source": [
    "# Convert categorical features to numerical using one-hot encoding\n",
    "X = pd.get_dummies(X)"
   ]
  },
  {
   "cell_type": "code",
   "execution_count": 28,
   "id": "3d833bb0",
   "metadata": {},
   "outputs": [
    {
     "name": "stdout",
     "output_type": "stream",
     "text": [
      "1    5056\n",
      "2    5056\n",
      "4    5056\n",
      "6    5056\n",
      "3    5056\n",
      "5    5056\n",
      "Name: air_quality_us-epa-index, dtype: int64\n"
     ]
    }
   ],
   "source": [
    "oversampler = RandomOverSampler(random_state=42)\n",
    "X_resampled, y_resampled = oversampler.fit_resample(X, y)\n",
    "df_resampled = pd.concat([X_resampled, y_resampled], axis=1)\n",
    "print(df_resampled['air_quality_us-epa-index'].value_counts())"
   ]
  },
  {
   "cell_type": "code",
   "execution_count": 29,
   "id": "e6d2b2c2",
   "metadata": {},
   "outputs": [],
   "source": [
    "# Select features (X) and target variable (y)\n",
    "X = df_resampled.drop('air_quality_us-epa-index', axis=1)\n",
    "y = df_resampled['air_quality_us-epa-index']"
   ]
  },
  {
   "cell_type": "code",
   "execution_count": 30,
   "id": "b9aabb75",
   "metadata": {},
   "outputs": [],
   "source": [
    "# Split the dataset into training and testing sets\n",
    "X_train, X_test, y_train, y_test = train_test_split(X_resampled, y_resampled, test_size=0.2, random_state=42)"
   ]
  },
  {
   "cell_type": "code",
   "execution_count": 31,
   "id": "74b948a6",
   "metadata": {},
   "outputs": [],
   "source": [
    "# Standardize the features\n",
    "scaler = StandardScaler()\n",
    "X_train_scaled = scaler.fit_transform(X_train)\n",
    "X_test_scaled = scaler.transform(X_test)"
   ]
  },
  {
   "cell_type": "code",
   "execution_count": 32,
   "id": "ead9cdb0",
   "metadata": {},
   "outputs": [],
   "source": [
    "# Naive Bayes (Gaussian)\n",
    "nb_classifier = GaussianNB()\n",
    "nb_classifier.fit(X_train, y_train)\n",
    "nb_pred = nb_classifier.predict(X_test)\n",
    "nb_accuracy = accuracy_score(y_test, nb_pred)"
   ]
  },
  {
   "cell_type": "code",
   "execution_count": null,
   "id": "3c85ba1c",
   "metadata": {},
   "outputs": [],
   "source": [
    "# Support Vector Machine (SVM)\n",
    "svm_classifier = SVC()\n",
    "svm_classifier.fit(X_train, y_train)\n",
    "svm_pred = svm_classifier.predict(X_test)"
   ]
  },
  {
   "cell_type": "code",
   "execution_count": null,
   "id": "c41f94c3",
   "metadata": {},
   "outputs": [],
   "source": [
    "# Random Forest\n",
    "rf_classifier = RandomForestClassifier()\n",
    "rf_classifier.fit(X_train, y_train)\n",
    "rf_pred = rf_classifier.predict(X_test)"
   ]
  },
  {
   "cell_type": "code",
   "execution_count": null,
   "id": "a4ba03b6",
   "metadata": {},
   "outputs": [],
   "source": [
    "# Evaluate the models\n",
    "nb_accuracy = accuracy_score(y_test, nb_pred)\n",
    "print(\"Naive Bayes (GaussianNB) Accuracy:\", nb_accuracy)\n",
    "print('\\nNaive Bayes (Gaussian) - Classification Report:')\n",
    "print(classification_report(y_test, nb_y_pred))"
   ]
  },
  {
   "cell_type": "code",
   "execution_count": null,
   "id": "9881cf5a",
   "metadata": {},
   "outputs": [],
   "source": [
    "svm_accuracy = accuracy_score(y_test, svm_pred)\n",
    "print(\"SVM Accuracy:\", svm_accuracy)\n",
    "print('\\nSupport Vector Machine (SVM) - Classification Report:')\n",
    "print(classification_report(y_test, svm_y_pred))"
   ]
  },
  {
   "cell_type": "code",
   "execution_count": null,
   "id": "55ff1cfb",
   "metadata": {},
   "outputs": [],
   "source": [
    "rf_accuracy = accuracy_score(y_test, rf_pred)\n",
    "print(\"Random Forest Accuracy:\", rf_accuracy)\n",
    "print('\\nRandom Forest - Classification Report:')\n",
    "print(classification_report(y_test, rf_y_pred))"
   ]
  },
  {
   "cell_type": "code",
   "execution_count": null,
   "id": "6850f71d",
   "metadata": {},
   "outputs": [],
   "source": []
  }
 ],
 "metadata": {
  "kernelspec": {
   "display_name": "Python 3 (ipykernel)",
   "language": "python",
   "name": "python3"
  },
  "language_info": {
   "codemirror_mode": {
    "name": "ipython",
    "version": 3
   },
   "file_extension": ".py",
   "mimetype": "text/x-python",
   "name": "python",
   "nbconvert_exporter": "python",
   "pygments_lexer": "ipython3",
   "version": "3.9.13"
  }
 },
 "nbformat": 4,
 "nbformat_minor": 5
}
