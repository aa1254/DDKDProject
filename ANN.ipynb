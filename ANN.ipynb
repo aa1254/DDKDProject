{
 "cells": [
  {
   "cell_type": "code",
   "execution_count": 1,
   "metadata": {
    "id": "jjaKS65wKlRw"
   },
   "outputs": [],
   "source": [
    "import pandas as pd\n",
    "from sklearn.model_selection import train_test_split\n",
    "from sklearn.preprocessing import StandardScaler, LabelEncoder\n",
    "from sklearn.metrics import accuracy_score, classification_report\n",
    "from tensorflow.keras.models import Sequential\n",
    "from tensorflow.keras.layers import Dense\n",
    "from tensorflow.keras.utils import to_categorical"
   ]
  },
  {
   "cell_type": "code",
   "execution_count": 2,
   "metadata": {
    "colab": {
     "base_uri": "https://localhost:8080/"
    },
    "id": "3IMCORf3c7cW",
    "outputId": "7bf96d49-7b65-4d56-b8e9-e02f2cfc8291"
   },
   "outputs": [
    {
     "name": "stdout",
     "output_type": "stream",
     "text": [
      "Drive already mounted at /content/drive; to attempt to forcibly remount, call drive.mount(\"/content/drive\", force_remount=True).\n"
     ]
    }
   ],
   "source": [
    "from google.colab import drive\n",
    "drive.mount('/content/drive')"
   ]
  },
  {
   "cell_type": "code",
   "execution_count": 21,
   "metadata": {
    "id": "uh1rXyGWKrau"
   },
   "outputs": [],
   "source": [
    "# Load the dataset\n",
    "# Assuming 'wgr_data.csv' as the dataset file name\n",
    "wgr_data = pd.read_csv(\"/content/drive/MyDrive/Data/GlobalWeatherRepository.csv\") #reading train data.csv"
   ]
  },
  {
   "cell_type": "code",
   "execution_count": 22,
   "metadata": {
    "id": "9yKI9zS9Krf7"
   },
   "outputs": [],
   "source": [
    "# Select features (X) and target variable (y)\n",
    "# Assuming 'condition_text' as the target variable\n",
    "X = wgr_data.drop('air_quality_us-epa-index', axis=1)\n",
    "y = wgr_data['air_quality_us-epa-index']"
   ]
  },
  {
   "cell_type": "code",
   "execution_count": 23,
   "metadata": {
    "id": "b8kyiuglKrih"
   },
   "outputs": [],
   "source": [
    "# Convert categorical features to numerical using one-hot encoding\n",
    "X = pd.get_dummies(X)\n",
    "\n",
    "# Convert labels to numerical using LabelEncoder\n",
    "label_encoder = LabelEncoder()\n",
    "y_encoded = label_encoder.fit_transform(y)"
   ]
  },
  {
   "cell_type": "code",
   "execution_count": 24,
   "metadata": {
    "id": "nzqbvb7rKrkk"
   },
   "outputs": [],
   "source": [
    "# Split the dataset into training and testing sets\n",
    "X_train, X_test, y_train, y_test = train_test_split(X, y_encoded, test_size=0.2, random_state=42)"
   ]
  },
  {
   "cell_type": "code",
   "execution_count": 25,
   "metadata": {
    "id": "gnPEhRycdf81"
   },
   "outputs": [],
   "source": [
    "# Standardize the features\n",
    "scaler = StandardScaler()\n",
    "X_train_scaled = scaler.fit_transform(X_train)\n",
    "X_test_scaled = scaler.transform(X_test)"
   ]
  },
  {
   "cell_type": "code",
   "execution_count": 26,
   "metadata": {
    "id": "l03HvdKsLIxG"
   },
   "outputs": [],
   "source": [
    "# Build the ANN model\n",
    "model = Sequential()\n",
    "model.add(Dense(128, input_dim=X_train_scaled.shape[1], activation='relu'))\n",
    "model.add(Dense(64, activation='relu'))\n",
    "model.add(Dense(y_onehot.shape[1], activation='softmax'))"
   ]
  },
  {
   "cell_type": "code",
   "execution_count": 27,
   "metadata": {
    "colab": {
     "base_uri": "https://localhost:8080/"
    },
    "id": "a8dsHTDEcEMP",
    "outputId": "e8ca2006-c1b1-4b2e-b74f-93e7eb40eb48"
   },
   "outputs": [
    {
     "name": "stdout",
     "output_type": "stream",
     "text": [
      "Epoch 1/20\n",
      "370/370 [==============================] - 4s 9ms/step - loss: 0.7480 - accuracy: 0.7115 - val_loss: 0.6058 - val_accuracy: 0.7549\n",
      "Epoch 2/20\n",
      "370/370 [==============================] - 3s 9ms/step - loss: 0.1418 - accuracy: 0.9542 - val_loss: 0.7791 - val_accuracy: 0.7502\n",
      "Epoch 3/20\n",
      "370/370 [==============================] - 5s 14ms/step - loss: 0.0267 - accuracy: 0.9924 - val_loss: 0.8726 - val_accuracy: 0.7434\n",
      "Epoch 4/20\n",
      "370/370 [==============================] - 4s 11ms/step - loss: 0.0112 - accuracy: 0.9959 - val_loss: 0.9480 - val_accuracy: 0.7515\n",
      "Epoch 5/20\n",
      "370/370 [==============================] - 3s 9ms/step - loss: 0.0060 - accuracy: 0.9980 - val_loss: 1.0053 - val_accuracy: 0.7434\n",
      "Epoch 6/20\n",
      "370/370 [==============================] - 3s 9ms/step - loss: 0.0058 - accuracy: 0.9985 - val_loss: 0.9855 - val_accuracy: 0.7502\n",
      "Epoch 7/20\n",
      "370/370 [==============================] - 5s 14ms/step - loss: 6.5409e-04 - accuracy: 1.0000 - val_loss: 1.0457 - val_accuracy: 0.7461\n",
      "Epoch 8/20\n",
      "370/370 [==============================] - 6s 15ms/step - loss: 3.0842e-04 - accuracy: 1.0000 - val_loss: 1.0796 - val_accuracy: 0.7495\n",
      "Epoch 9/20\n",
      "370/370 [==============================] - 3s 9ms/step - loss: 1.9840e-04 - accuracy: 1.0000 - val_loss: 1.1182 - val_accuracy: 0.7475\n",
      "Epoch 10/20\n",
      "370/370 [==============================] - 4s 10ms/step - loss: 1.4033e-04 - accuracy: 1.0000 - val_loss: 1.1519 - val_accuracy: 0.7475\n",
      "Epoch 11/20\n",
      "370/370 [==============================] - 3s 9ms/step - loss: 1.0396e-04 - accuracy: 1.0000 - val_loss: 1.1815 - val_accuracy: 0.7448\n",
      "Epoch 12/20\n",
      "370/370 [==============================] - 4s 12ms/step - loss: 7.8233e-05 - accuracy: 1.0000 - val_loss: 1.2081 - val_accuracy: 0.7454\n",
      "Epoch 13/20\n",
      "370/370 [==============================] - 4s 11ms/step - loss: 5.9931e-05 - accuracy: 1.0000 - val_loss: 1.2356 - val_accuracy: 0.7441\n",
      "Epoch 14/20\n",
      "370/370 [==============================] - 3s 9ms/step - loss: 4.6717e-05 - accuracy: 1.0000 - val_loss: 1.2611 - val_accuracy: 0.7454\n",
      "Epoch 15/20\n",
      "370/370 [==============================] - 3s 9ms/step - loss: 3.6470e-05 - accuracy: 1.0000 - val_loss: 1.2863 - val_accuracy: 0.7448\n",
      "Epoch 16/20\n",
      "370/370 [==============================] - 4s 10ms/step - loss: 2.8674e-05 - accuracy: 1.0000 - val_loss: 1.3098 - val_accuracy: 0.7454\n",
      "Epoch 17/20\n",
      "370/370 [==============================] - 4s 12ms/step - loss: 2.2686e-05 - accuracy: 1.0000 - val_loss: 1.3354 - val_accuracy: 0.7434\n",
      "Epoch 18/20\n",
      "370/370 [==============================] - 4s 10ms/step - loss: 1.7861e-05 - accuracy: 1.0000 - val_loss: 1.3579 - val_accuracy: 0.7454\n",
      "Epoch 19/20\n",
      "370/370 [==============================] - 3s 8ms/step - loss: 1.4345e-05 - accuracy: 1.0000 - val_loss: 1.3838 - val_accuracy: 0.7421\n",
      "Epoch 20/20\n",
      "370/370 [==============================] - 3s 8ms/step - loss: 1.1400e-05 - accuracy: 1.0000 - val_loss: 1.4066 - val_accuracy: 0.7427\n",
      "47/47 [==============================] - 0s 3ms/step\n"
     ]
    }
   ],
   "source": [
    "# Compile the model\n",
    "model.compile(optimizer='adam', loss='sparse_categorical_crossentropy', metrics=['accuracy'])\n",
    "\n",
    "# Train the model\n",
    "model.fit(X_train_scaled, y_train, epochs=20, batch_size=16, validation_data=(X_test_scaled, y_test))\n",
    "\n",
    "# Make predictions on the test set\n",
    "y_pred_proba = model.predict(X_test_scaled)\n",
    "y_pred = label_encoder.inverse_transform(y_pred_proba.argmax(axis=1))"
   ]
  },
  {
   "cell_type": "code",
   "execution_count": 31,
   "metadata": {
    "id": "c19GMUejcEOt"
   },
   "outputs": [],
   "source": []
  },
  {
   "cell_type": "code",
   "execution_count": null,
   "metadata": {
    "id": "n4ilMzdVcEQm"
   },
   "outputs": [],
   "source": []
  },
  {
   "cell_type": "code",
   "execution_count": null,
   "metadata": {
    "id": "9du2EYDUcESr"
   },
   "outputs": [],
   "source": []
  },
  {
   "cell_type": "code",
   "execution_count": null,
   "metadata": {
    "id": "A7UpHncfcEU1"
   },
   "outputs": [],
   "source": []
  },
  {
   "cell_type": "code",
   "execution_count": null,
   "metadata": {
    "id": "7_KSDVzNLIzK"
   },
   "outputs": [],
   "source": []
  },
  {
   "cell_type": "code",
   "execution_count": null,
   "metadata": {
    "id": "U68suQD1Krmu"
   },
   "outputs": [],
   "source": []
  }
 ],
 "metadata": {
  "colab": {
   "provenance": []
  },
  "kernelspec": {
   "display_name": "Python 3 (ipykernel)",
   "language": "python",
   "name": "python3"
  },
  "language_info": {
   "codemirror_mode": {
    "name": "ipython",
    "version": 3
   },
   "file_extension": ".py",
   "mimetype": "text/x-python",
   "name": "python",
   "nbconvert_exporter": "python",
   "pygments_lexer": "ipython3",
   "version": "3.9.13"
  }
 },
 "nbformat": 4,
 "nbformat_minor": 1
}
