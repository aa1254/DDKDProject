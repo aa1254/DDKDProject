{
 "cells": [
  {
   "cell_type": "code",
   "execution_count": 93,
   "id": "30432688",
   "metadata": {},
   "outputs": [],
   "source": [
    "\n",
    "import pandas as pd\n",
    "import numpy as np\n",
    "import seaborn as sns\n",
    "import matplotlib.pyplot as plt"
   ]
  },
  {
   "cell_type": "code",
   "execution_count": 94,
   "id": "6c035ce3",
   "metadata": {},
   "outputs": [],
   "source": [
    "wgr_data=pd.read_csv(\"C:/Users/anany/Downloads/GlobalWeatherRepository.csv\") #reading train data"
   ]
  },
  {
   "cell_type": "code",
   "execution_count": 95,
   "id": "161e1180",
   "metadata": {},
   "outputs": [
    {
     "data": {
      "text/html": [
       "<div>\n",
       "<style scoped>\n",
       "    .dataframe tbody tr th:only-of-type {\n",
       "        vertical-align: middle;\n",
       "    }\n",
       "\n",
       "    .dataframe tbody tr th {\n",
       "        vertical-align: top;\n",
       "    }\n",
       "\n",
       "    .dataframe thead th {\n",
       "        text-align: right;\n",
       "    }\n",
       "</style>\n",
       "<table border=\"1\" class=\"dataframe\">\n",
       "  <thead>\n",
       "    <tr style=\"text-align: right;\">\n",
       "      <th></th>\n",
       "      <th>country</th>\n",
       "      <th>location_name</th>\n",
       "      <th>latitude</th>\n",
       "      <th>longitude</th>\n",
       "      <th>timezone</th>\n",
       "      <th>last_updated_epoch</th>\n",
       "      <th>last_updated</th>\n",
       "      <th>temperature_celsius</th>\n",
       "      <th>temperature_fahrenheit</th>\n",
       "      <th>condition_text</th>\n",
       "      <th>...</th>\n",
       "      <th>air_quality_PM2.5</th>\n",
       "      <th>air_quality_PM10</th>\n",
       "      <th>air_quality_us-epa-index</th>\n",
       "      <th>air_quality_gb-defra-index</th>\n",
       "      <th>sunrise</th>\n",
       "      <th>sunset</th>\n",
       "      <th>moonrise</th>\n",
       "      <th>moonset</th>\n",
       "      <th>moon_phase</th>\n",
       "      <th>moon_illumination</th>\n",
       "    </tr>\n",
       "  </thead>\n",
       "  <tbody>\n",
       "    <tr>\n",
       "      <th>0</th>\n",
       "      <td>Afghanistan</td>\n",
       "      <td>Kabul</td>\n",
       "      <td>34.52</td>\n",
       "      <td>69.18</td>\n",
       "      <td>Asia/Kabul</td>\n",
       "      <td>1693301400</td>\n",
       "      <td>2023-08-29 14:00</td>\n",
       "      <td>28.8</td>\n",
       "      <td>83.8</td>\n",
       "      <td>Sunny</td>\n",
       "      <td>...</td>\n",
       "      <td>7.9</td>\n",
       "      <td>11.1</td>\n",
       "      <td>1</td>\n",
       "      <td>1</td>\n",
       "      <td>05:24 AM</td>\n",
       "      <td>06:24 PM</td>\n",
       "      <td>05:39 PM</td>\n",
       "      <td>02:48 AM</td>\n",
       "      <td>Waxing Gibbous</td>\n",
       "      <td>93</td>\n",
       "    </tr>\n",
       "    <tr>\n",
       "      <th>1</th>\n",
       "      <td>Albania</td>\n",
       "      <td>Tirana</td>\n",
       "      <td>41.33</td>\n",
       "      <td>19.82</td>\n",
       "      <td>Europe/Tirane</td>\n",
       "      <td>1693301400</td>\n",
       "      <td>2023-08-29 11:30</td>\n",
       "      <td>27.0</td>\n",
       "      <td>80.6</td>\n",
       "      <td>Partly cloudy</td>\n",
       "      <td>...</td>\n",
       "      <td>28.2</td>\n",
       "      <td>29.6</td>\n",
       "      <td>2</td>\n",
       "      <td>3</td>\n",
       "      <td>06:04 AM</td>\n",
       "      <td>07:19 PM</td>\n",
       "      <td>06:50 PM</td>\n",
       "      <td>03:25 AM</td>\n",
       "      <td>Waxing Gibbous</td>\n",
       "      <td>93</td>\n",
       "    </tr>\n",
       "    <tr>\n",
       "      <th>2</th>\n",
       "      <td>Algeria</td>\n",
       "      <td>Algiers</td>\n",
       "      <td>36.76</td>\n",
       "      <td>3.05</td>\n",
       "      <td>Africa/Algiers</td>\n",
       "      <td>1693301400</td>\n",
       "      <td>2023-08-29 10:30</td>\n",
       "      <td>28.0</td>\n",
       "      <td>82.4</td>\n",
       "      <td>Partly cloudy</td>\n",
       "      <td>...</td>\n",
       "      <td>6.4</td>\n",
       "      <td>7.9</td>\n",
       "      <td>1</td>\n",
       "      <td>1</td>\n",
       "      <td>06:16 AM</td>\n",
       "      <td>07:21 PM</td>\n",
       "      <td>06:46 PM</td>\n",
       "      <td>03:50 AM</td>\n",
       "      <td>Waxing Gibbous</td>\n",
       "      <td>93</td>\n",
       "    </tr>\n",
       "    <tr>\n",
       "      <th>3</th>\n",
       "      <td>Andorra</td>\n",
       "      <td>Andorra La Vella</td>\n",
       "      <td>42.50</td>\n",
       "      <td>1.52</td>\n",
       "      <td>Europe/Andorra</td>\n",
       "      <td>1693301400</td>\n",
       "      <td>2023-08-29 11:30</td>\n",
       "      <td>10.2</td>\n",
       "      <td>50.4</td>\n",
       "      <td>Sunny</td>\n",
       "      <td>...</td>\n",
       "      <td>0.5</td>\n",
       "      <td>0.8</td>\n",
       "      <td>1</td>\n",
       "      <td>1</td>\n",
       "      <td>07:16 AM</td>\n",
       "      <td>08:34 PM</td>\n",
       "      <td>08:08 PM</td>\n",
       "      <td>04:38 AM</td>\n",
       "      <td>Waxing Gibbous</td>\n",
       "      <td>93</td>\n",
       "    </tr>\n",
       "    <tr>\n",
       "      <th>4</th>\n",
       "      <td>Angola</td>\n",
       "      <td>Luanda</td>\n",
       "      <td>-8.84</td>\n",
       "      <td>13.23</td>\n",
       "      <td>Africa/Luanda</td>\n",
       "      <td>1693301400</td>\n",
       "      <td>2023-08-29 10:30</td>\n",
       "      <td>25.0</td>\n",
       "      <td>77.0</td>\n",
       "      <td>Partly cloudy</td>\n",
       "      <td>...</td>\n",
       "      <td>139.6</td>\n",
       "      <td>203.3</td>\n",
       "      <td>4</td>\n",
       "      <td>10</td>\n",
       "      <td>06:11 AM</td>\n",
       "      <td>06:06 PM</td>\n",
       "      <td>04:43 PM</td>\n",
       "      <td>04:41 AM</td>\n",
       "      <td>Waxing Gibbous</td>\n",
       "      <td>93</td>\n",
       "    </tr>\n",
       "  </tbody>\n",
       "</table>\n",
       "<p>5 rows × 41 columns</p>\n",
       "</div>"
      ],
      "text/plain": [
       "       country     location_name  latitude  longitude        timezone  \\\n",
       "0  Afghanistan             Kabul     34.52      69.18      Asia/Kabul   \n",
       "1      Albania            Tirana     41.33      19.82   Europe/Tirane   \n",
       "2      Algeria           Algiers     36.76       3.05  Africa/Algiers   \n",
       "3      Andorra  Andorra La Vella     42.50       1.52  Europe/Andorra   \n",
       "4       Angola            Luanda     -8.84      13.23   Africa/Luanda   \n",
       "\n",
       "   last_updated_epoch      last_updated  temperature_celsius  \\\n",
       "0          1693301400  2023-08-29 14:00                 28.8   \n",
       "1          1693301400  2023-08-29 11:30                 27.0   \n",
       "2          1693301400  2023-08-29 10:30                 28.0   \n",
       "3          1693301400  2023-08-29 11:30                 10.2   \n",
       "4          1693301400  2023-08-29 10:30                 25.0   \n",
       "\n",
       "   temperature_fahrenheit condition_text  ...  air_quality_PM2.5  \\\n",
       "0                    83.8          Sunny  ...                7.9   \n",
       "1                    80.6  Partly cloudy  ...               28.2   \n",
       "2                    82.4  Partly cloudy  ...                6.4   \n",
       "3                    50.4          Sunny  ...                0.5   \n",
       "4                    77.0  Partly cloudy  ...              139.6   \n",
       "\n",
       "   air_quality_PM10  air_quality_us-epa-index air_quality_gb-defra-index  \\\n",
       "0              11.1                         1                          1   \n",
       "1              29.6                         2                          3   \n",
       "2               7.9                         1                          1   \n",
       "3               0.8                         1                          1   \n",
       "4             203.3                         4                         10   \n",
       "\n",
       "    sunrise    sunset  moonrise   moonset      moon_phase  moon_illumination  \n",
       "0  05:24 AM  06:24 PM  05:39 PM  02:48 AM  Waxing Gibbous                 93  \n",
       "1  06:04 AM  07:19 PM  06:50 PM  03:25 AM  Waxing Gibbous                 93  \n",
       "2  06:16 AM  07:21 PM  06:46 PM  03:50 AM  Waxing Gibbous                 93  \n",
       "3  07:16 AM  08:34 PM  08:08 PM  04:38 AM  Waxing Gibbous                 93  \n",
       "4  06:11 AM  06:06 PM  04:43 PM  04:41 AM  Waxing Gibbous                 93  \n",
       "\n",
       "[5 rows x 41 columns]"
      ]
     },
     "execution_count": 95,
     "metadata": {},
     "output_type": "execute_result"
    }
   ],
   "source": [
    "wgr_data.head()"
   ]
  },
  {
   "cell_type": "code",
   "execution_count": 96,
   "id": "e0891d54",
   "metadata": {
    "scrolled": true
   },
   "outputs": [
    {
     "data": {
      "text/plain": [
       "Index(['country', 'location_name', 'latitude', 'longitude', 'timezone',\n",
       "       'last_updated_epoch', 'last_updated', 'temperature_celsius',\n",
       "       'temperature_fahrenheit', 'condition_text', 'wind_mph', 'wind_kph',\n",
       "       'wind_degree', 'wind_direction', 'pressure_mb', 'pressure_in',\n",
       "       'precip_mm', 'precip_in', 'humidity', 'cloud', 'feels_like_celsius',\n",
       "       'feels_like_fahrenheit', 'visibility_km', 'visibility_miles',\n",
       "       'uv_index', 'gust_mph', 'gust_kph', 'air_quality_Carbon_Monoxide',\n",
       "       'air_quality_Ozone', 'air_quality_Nitrogen_dioxide',\n",
       "       'air_quality_Sulphur_dioxide', 'air_quality_PM2.5', 'air_quality_PM10',\n",
       "       'air_quality_us-epa-index', 'air_quality_gb-defra-index', 'sunrise',\n",
       "       'sunset', 'moonrise', 'moonset', 'moon_phase', 'moon_illumination'],\n",
       "      dtype='object')"
      ]
     },
     "execution_count": 96,
     "metadata": {},
     "output_type": "execute_result"
    }
   ],
   "source": [
    "wgr_data.columns\n"
   ]
  },
  {
   "cell_type": "code",
   "execution_count": 97,
   "id": "0befbe25",
   "metadata": {},
   "outputs": [
    {
     "data": {
      "text/html": [
       "<div>\n",
       "<style scoped>\n",
       "    .dataframe tbody tr th:only-of-type {\n",
       "        vertical-align: middle;\n",
       "    }\n",
       "\n",
       "    .dataframe tbody tr th {\n",
       "        vertical-align: top;\n",
       "    }\n",
       "\n",
       "    .dataframe thead th {\n",
       "        text-align: right;\n",
       "    }\n",
       "</style>\n",
       "<table border=\"1\" class=\"dataframe\">\n",
       "  <thead>\n",
       "    <tr style=\"text-align: right;\">\n",
       "      <th></th>\n",
       "      <th>latitude</th>\n",
       "      <th>longitude</th>\n",
       "      <th>last_updated_epoch</th>\n",
       "      <th>temperature_celsius</th>\n",
       "      <th>temperature_fahrenheit</th>\n",
       "      <th>wind_mph</th>\n",
       "      <th>wind_kph</th>\n",
       "      <th>wind_degree</th>\n",
       "      <th>pressure_mb</th>\n",
       "      <th>pressure_in</th>\n",
       "      <th>...</th>\n",
       "      <th>gust_kph</th>\n",
       "      <th>air_quality_Carbon_Monoxide</th>\n",
       "      <th>air_quality_Ozone</th>\n",
       "      <th>air_quality_Nitrogen_dioxide</th>\n",
       "      <th>air_quality_Sulphur_dioxide</th>\n",
       "      <th>air_quality_PM2.5</th>\n",
       "      <th>air_quality_PM10</th>\n",
       "      <th>air_quality_us-epa-index</th>\n",
       "      <th>air_quality_gb-defra-index</th>\n",
       "      <th>moon_illumination</th>\n",
       "    </tr>\n",
       "  </thead>\n",
       "  <tbody>\n",
       "    <tr>\n",
       "      <th>count</th>\n",
       "      <td>7401.000000</td>\n",
       "      <td>7401.000000</td>\n",
       "      <td>7.401000e+03</td>\n",
       "      <td>7401.000000</td>\n",
       "      <td>7401.000000</td>\n",
       "      <td>7401.000000</td>\n",
       "      <td>7401.000000</td>\n",
       "      <td>7401.000000</td>\n",
       "      <td>7401.000000</td>\n",
       "      <td>7401.000000</td>\n",
       "      <td>...</td>\n",
       "      <td>7401.000000</td>\n",
       "      <td>7401.000000</td>\n",
       "      <td>7401.000000</td>\n",
       "      <td>7401.000000</td>\n",
       "      <td>7401.000000</td>\n",
       "      <td>7401.000000</td>\n",
       "      <td>7401.000000</td>\n",
       "      <td>7401.000000</td>\n",
       "      <td>7401.000000</td>\n",
       "      <td>7401.000000</td>\n",
       "    </tr>\n",
       "    <tr>\n",
       "      <th>mean</th>\n",
       "      <td>19.302566</td>\n",
       "      <td>21.896911</td>\n",
       "      <td>1.694863e+09</td>\n",
       "      <td>22.292555</td>\n",
       "      <td>72.127158</td>\n",
       "      <td>6.626010</td>\n",
       "      <td>10.663802</td>\n",
       "      <td>162.921632</td>\n",
       "      <td>1013.748007</td>\n",
       "      <td>29.935013</td>\n",
       "      <td>...</td>\n",
       "      <td>17.116471</td>\n",
       "      <td>530.624456</td>\n",
       "      <td>41.146210</td>\n",
       "      <td>11.256060</td>\n",
       "      <td>6.556979</td>\n",
       "      <td>22.125605</td>\n",
       "      <td>36.155695</td>\n",
       "      <td>1.509796</td>\n",
       "      <td>2.150520</td>\n",
       "      <td>57.078638</td>\n",
       "    </tr>\n",
       "    <tr>\n",
       "      <th>std</th>\n",
       "      <td>24.584163</td>\n",
       "      <td>65.664467</td>\n",
       "      <td>9.430626e+05</td>\n",
       "      <td>6.713593</td>\n",
       "      <td>12.084826</td>\n",
       "      <td>4.659194</td>\n",
       "      <td>7.499469</td>\n",
       "      <td>103.881649</td>\n",
       "      <td>5.941710</td>\n",
       "      <td>0.175307</td>\n",
       "      <td>...</td>\n",
       "      <td>10.875608</td>\n",
       "      <td>1260.794141</td>\n",
       "      <td>32.301498</td>\n",
       "      <td>20.328045</td>\n",
       "      <td>14.537973</td>\n",
       "      <td>63.098289</td>\n",
       "      <td>89.494831</td>\n",
       "      <td>0.939777</td>\n",
       "      <td>2.262871</td>\n",
       "      <td>36.643535</td>\n",
       "    </tr>\n",
       "    <tr>\n",
       "      <th>min</th>\n",
       "      <td>-41.300000</td>\n",
       "      <td>-175.200000</td>\n",
       "      <td>1.693301e+09</td>\n",
       "      <td>-5.000000</td>\n",
       "      <td>23.000000</td>\n",
       "      <td>2.200000</td>\n",
       "      <td>3.600000</td>\n",
       "      <td>1.000000</td>\n",
       "      <td>982.000000</td>\n",
       "      <td>29.000000</td>\n",
       "      <td>...</td>\n",
       "      <td>0.000000</td>\n",
       "      <td>96.800000</td>\n",
       "      <td>0.000000</td>\n",
       "      <td>0.000000</td>\n",
       "      <td>0.000000</td>\n",
       "      <td>0.500000</td>\n",
       "      <td>0.500000</td>\n",
       "      <td>1.000000</td>\n",
       "      <td>1.000000</td>\n",
       "      <td>0.000000</td>\n",
       "    </tr>\n",
       "    <tr>\n",
       "      <th>25%</th>\n",
       "      <td>3.750000</td>\n",
       "      <td>-6.840000</td>\n",
       "      <td>1.694041e+09</td>\n",
       "      <td>17.000000</td>\n",
       "      <td>62.600000</td>\n",
       "      <td>3.100000</td>\n",
       "      <td>5.000000</td>\n",
       "      <td>73.000000</td>\n",
       "      <td>1010.000000</td>\n",
       "      <td>29.830000</td>\n",
       "      <td>...</td>\n",
       "      <td>9.000000</td>\n",
       "      <td>223.600000</td>\n",
       "      <td>17.700000</td>\n",
       "      <td>1.100000</td>\n",
       "      <td>0.400000</td>\n",
       "      <td>3.200000</td>\n",
       "      <td>5.600000</td>\n",
       "      <td>1.000000</td>\n",
       "      <td>1.000000</td>\n",
       "      <td>22.000000</td>\n",
       "    </tr>\n",
       "    <tr>\n",
       "      <th>50%</th>\n",
       "      <td>17.250000</td>\n",
       "      <td>23.240000</td>\n",
       "      <td>1.694817e+09</td>\n",
       "      <td>23.000000</td>\n",
       "      <td>73.400000</td>\n",
       "      <td>5.600000</td>\n",
       "      <td>9.000000</td>\n",
       "      <td>160.000000</td>\n",
       "      <td>1013.000000</td>\n",
       "      <td>29.910000</td>\n",
       "      <td>...</td>\n",
       "      <td>15.100000</td>\n",
       "      <td>273.700000</td>\n",
       "      <td>37.200000</td>\n",
       "      <td>3.900000</td>\n",
       "      <td>1.500000</td>\n",
       "      <td>7.900000</td>\n",
       "      <td>13.400000</td>\n",
       "      <td>1.000000</td>\n",
       "      <td>1.000000</td>\n",
       "      <td>63.000000</td>\n",
       "    </tr>\n",
       "    <tr>\n",
       "      <th>75%</th>\n",
       "      <td>41.330000</td>\n",
       "      <td>50.580000</td>\n",
       "      <td>1.695679e+09</td>\n",
       "      <td>27.000000</td>\n",
       "      <td>80.600000</td>\n",
       "      <td>9.400000</td>\n",
       "      <td>15.100000</td>\n",
       "      <td>245.000000</td>\n",
       "      <td>1017.000000</td>\n",
       "      <td>30.030000</td>\n",
       "      <td>...</td>\n",
       "      <td>22.700000</td>\n",
       "      <td>427.300000</td>\n",
       "      <td>57.200000</td>\n",
       "      <td>12.200000</td>\n",
       "      <td>5.700000</td>\n",
       "      <td>19.600000</td>\n",
       "      <td>31.900000</td>\n",
       "      <td>2.000000</td>\n",
       "      <td>2.000000</td>\n",
       "      <td>93.000000</td>\n",
       "    </tr>\n",
       "    <tr>\n",
       "      <th>max</th>\n",
       "      <td>63.830000</td>\n",
       "      <td>179.220000</td>\n",
       "      <td>1.696455e+09</td>\n",
       "      <td>45.000000</td>\n",
       "      <td>113.000000</td>\n",
       "      <td>48.500000</td>\n",
       "      <td>78.100000</td>\n",
       "      <td>360.000000</td>\n",
       "      <td>1036.000000</td>\n",
       "      <td>30.590000</td>\n",
       "      <td>...</td>\n",
       "      <td>110.500000</td>\n",
       "      <td>36315.898000</td>\n",
       "      <td>320.400000</td>\n",
       "      <td>329.000000</td>\n",
       "      <td>169.800000</td>\n",
       "      <td>1558.800000</td>\n",
       "      <td>2504.300000</td>\n",
       "      <td>6.000000</td>\n",
       "      <td>10.000000</td>\n",
       "      <td>100.000000</td>\n",
       "    </tr>\n",
       "  </tbody>\n",
       "</table>\n",
       "<p>8 rows × 30 columns</p>\n",
       "</div>"
      ],
      "text/plain": [
       "          latitude    longitude  last_updated_epoch  temperature_celsius  \\\n",
       "count  7401.000000  7401.000000        7.401000e+03          7401.000000   \n",
       "mean     19.302566    21.896911        1.694863e+09            22.292555   \n",
       "std      24.584163    65.664467        9.430626e+05             6.713593   \n",
       "min     -41.300000  -175.200000        1.693301e+09            -5.000000   \n",
       "25%       3.750000    -6.840000        1.694041e+09            17.000000   \n",
       "50%      17.250000    23.240000        1.694817e+09            23.000000   \n",
       "75%      41.330000    50.580000        1.695679e+09            27.000000   \n",
       "max      63.830000   179.220000        1.696455e+09            45.000000   \n",
       "\n",
       "       temperature_fahrenheit     wind_mph     wind_kph  wind_degree  \\\n",
       "count             7401.000000  7401.000000  7401.000000  7401.000000   \n",
       "mean                72.127158     6.626010    10.663802   162.921632   \n",
       "std                 12.084826     4.659194     7.499469   103.881649   \n",
       "min                 23.000000     2.200000     3.600000     1.000000   \n",
       "25%                 62.600000     3.100000     5.000000    73.000000   \n",
       "50%                 73.400000     5.600000     9.000000   160.000000   \n",
       "75%                 80.600000     9.400000    15.100000   245.000000   \n",
       "max                113.000000    48.500000    78.100000   360.000000   \n",
       "\n",
       "       pressure_mb  pressure_in  ...     gust_kph  \\\n",
       "count  7401.000000  7401.000000  ...  7401.000000   \n",
       "mean   1013.748007    29.935013  ...    17.116471   \n",
       "std       5.941710     0.175307  ...    10.875608   \n",
       "min     982.000000    29.000000  ...     0.000000   \n",
       "25%    1010.000000    29.830000  ...     9.000000   \n",
       "50%    1013.000000    29.910000  ...    15.100000   \n",
       "75%    1017.000000    30.030000  ...    22.700000   \n",
       "max    1036.000000    30.590000  ...   110.500000   \n",
       "\n",
       "       air_quality_Carbon_Monoxide  air_quality_Ozone  \\\n",
       "count                  7401.000000        7401.000000   \n",
       "mean                    530.624456          41.146210   \n",
       "std                    1260.794141          32.301498   \n",
       "min                      96.800000           0.000000   \n",
       "25%                     223.600000          17.700000   \n",
       "50%                     273.700000          37.200000   \n",
       "75%                     427.300000          57.200000   \n",
       "max                   36315.898000         320.400000   \n",
       "\n",
       "       air_quality_Nitrogen_dioxide  air_quality_Sulphur_dioxide  \\\n",
       "count                   7401.000000                  7401.000000   \n",
       "mean                      11.256060                     6.556979   \n",
       "std                       20.328045                    14.537973   \n",
       "min                        0.000000                     0.000000   \n",
       "25%                        1.100000                     0.400000   \n",
       "50%                        3.900000                     1.500000   \n",
       "75%                       12.200000                     5.700000   \n",
       "max                      329.000000                   169.800000   \n",
       "\n",
       "       air_quality_PM2.5  air_quality_PM10  air_quality_us-epa-index  \\\n",
       "count        7401.000000       7401.000000               7401.000000   \n",
       "mean           22.125605         36.155695                  1.509796   \n",
       "std            63.098289         89.494831                  0.939777   \n",
       "min             0.500000          0.500000                  1.000000   \n",
       "25%             3.200000          5.600000                  1.000000   \n",
       "50%             7.900000         13.400000                  1.000000   \n",
       "75%            19.600000         31.900000                  2.000000   \n",
       "max          1558.800000       2504.300000                  6.000000   \n",
       "\n",
       "       air_quality_gb-defra-index  moon_illumination  \n",
       "count                 7401.000000        7401.000000  \n",
       "mean                     2.150520          57.078638  \n",
       "std                      2.262871          36.643535  \n",
       "min                      1.000000           0.000000  \n",
       "25%                      1.000000          22.000000  \n",
       "50%                      1.000000          63.000000  \n",
       "75%                      2.000000          93.000000  \n",
       "max                     10.000000         100.000000  \n",
       "\n",
       "[8 rows x 30 columns]"
      ]
     },
     "execution_count": 97,
     "metadata": {},
     "output_type": "execute_result"
    }
   ],
   "source": [
    "wgr_data.describe()"
   ]
  },
  {
   "cell_type": "code",
   "execution_count": 98,
   "id": "f99422d3",
   "metadata": {},
   "outputs": [
    {
     "data": {
      "text/plain": [
       "Partly cloudy                          2933\n",
       "Clear                                  2704\n",
       "Sunny                                   358\n",
       "Overcast                                255\n",
       "Patchy rain possible                    220\n",
       "Mist                                    202\n",
       "Light rain                              196\n",
       "Patchy light rain with thunder          111\n",
       "Light rain shower                       110\n",
       "Moderate or heavy rain with thunder      90\n",
       "Fog                                      65\n",
       "Moderate rain                            43\n",
       "Cloudy                                   39\n",
       "Moderate or heavy rain shower            20\n",
       "Light drizzle                            12\n",
       "Thundery outbreaks possible              12\n",
       "Heavy rain                                6\n",
       "Patchy light rain                         6\n",
       "Moderate rain at times                    6\n",
       "Patchy light drizzle                      5\n",
       "Torrential rain shower                    5\n",
       "Heavy rain at times                       2\n",
       "Moderate or heavy snow with thunder       1\n",
       "Name: condition_text, dtype: int64"
      ]
     },
     "execution_count": 98,
     "metadata": {},
     "output_type": "execute_result"
    }
   ],
   "source": [
    "wgr_data['condition_text'].value_counts()"
   ]
  },
  {
   "cell_type": "code",
   "execution_count": 99,
   "id": "768edb43",
   "metadata": {},
   "outputs": [],
   "source": [
    "wgr_data['condition_text']=wgr_data['condition_text'].replace('Heavy rain at times','Moderate or heavy rain shower')"
   ]
  },
  {
   "cell_type": "code",
   "execution_count": 100,
   "id": "27a8d15c",
   "metadata": {},
   "outputs": [],
   "source": [
    "wgr_data['condition_text']=wgr_data['condition_text'].replace('Moderate or heavy snow with thunder','Moderate or heavy rain shower')"
   ]
  },
  {
   "cell_type": "code",
   "execution_count": 101,
   "id": "7021a2f0",
   "metadata": {},
   "outputs": [
    {
     "data": {
      "text/plain": [
       "Partly cloudy                          2933\n",
       "Clear                                  2704\n",
       "Sunny                                   358\n",
       "Overcast                                255\n",
       "Patchy rain possible                    220\n",
       "Mist                                    202\n",
       "Light rain                              196\n",
       "Patchy light rain with thunder          111\n",
       "Light rain shower                       110\n",
       "Moderate or heavy rain with thunder      90\n",
       "Fog                                      65\n",
       "Moderate rain                            43\n",
       "Cloudy                                   39\n",
       "Moderate or heavy rain shower            23\n",
       "Light drizzle                            12\n",
       "Thundery outbreaks possible              12\n",
       "Heavy rain                                6\n",
       "Moderate rain at times                    6\n",
       "Patchy light rain                         6\n",
       "Torrential rain shower                    5\n",
       "Patchy light drizzle                      5\n",
       "Name: condition_text, dtype: int64"
      ]
     },
     "execution_count": 101,
     "metadata": {},
     "output_type": "execute_result"
    }
   ],
   "source": [
    "wgr_data['condition_text'].value_counts()"
   ]
  },
  {
   "cell_type": "code",
   "execution_count": 102,
   "id": "2dbbaaa7",
   "metadata": {},
   "outputs": [
    {
     "data": {
      "text/plain": [
       "Europe/Rome            114\n",
       "Asia/Bangkok           113\n",
       "Asia/Jakarta            87\n",
       "Africa/Johannesburg     76\n",
       "Europe/Brussels         76\n",
       "                      ... \n",
       "Asia/Famagusta          35\n",
       "Asia/Dili               27\n",
       "Asia/Nicosia             3\n",
       "Asia/Hebron              1\n",
       "Africa/Kinshasa          1\n",
       "Name: timezone, Length: 183, dtype: int64"
      ]
     },
     "execution_count": 102,
     "metadata": {},
     "output_type": "execute_result"
    }
   ],
   "source": [
    "wgr_data['timezone'].value_counts()"
   ]
  },
  {
   "cell_type": "code",
   "execution_count": 103,
   "id": "d94fc7da",
   "metadata": {},
   "outputs": [
    {
     "data": {
      "text/plain": [
       "N      864\n",
       "E      655\n",
       "S      575\n",
       "ESE    490\n",
       "ENE    485\n",
       "SW     465\n",
       "NE     451\n",
       "SSW    447\n",
       "SE     445\n",
       "W      429\n",
       "SSE    386\n",
       "WSW    380\n",
       "NNE    380\n",
       "NNW    323\n",
       "WNW    322\n",
       "NW     304\n",
       "Name: wind_direction, dtype: int64"
      ]
     },
     "execution_count": 103,
     "metadata": {},
     "output_type": "execute_result"
    }
   ],
   "source": [
    "wgr_data['wind_direction'].value_counts()"
   ]
  },
  {
   "cell_type": "code",
   "execution_count": 104,
   "id": "2553fa19",
   "metadata": {},
   "outputs": [
    {
     "data": {
      "text/plain": [
       "Waning Gibbous     2144\n",
       "Waxing Crescent    1362\n",
       "Waxing Gibbous     1361\n",
       "Waning Crescent    1170\n",
       "Full Moon           585\n",
       "New Moon            390\n",
       "Last Quarter        195\n",
       "First Quarter       194\n",
       "Name: moon_phase, dtype: int64"
      ]
     },
     "execution_count": 104,
     "metadata": {},
     "output_type": "execute_result"
    }
   ],
   "source": [
    "wgr_data['moon_phase'].value_counts()"
   ]
  },
  {
   "cell_type": "code",
   "execution_count": 105,
   "id": "7a297d84",
   "metadata": {},
   "outputs": [
    {
     "data": {
      "text/plain": [
       "Bulgaria       114\n",
       "Indonesia       87\n",
       "Madagascar      76\n",
       "Turkey          76\n",
       "Sudan           76\n",
       "              ... \n",
       "Samoa           37\n",
       "Peru            37\n",
       "Kiribati        37\n",
       "Spain           36\n",
       "Timor-Leste     27\n",
       "Name: country, Length: 185, dtype: int64"
      ]
     },
     "execution_count": 105,
     "metadata": {},
     "output_type": "execute_result"
    }
   ],
   "source": [
    "wgr_data['country'].value_counts()"
   ]
  },
  {
   "cell_type": "code",
   "execution_count": 106,
   "id": "6e319e9e",
   "metadata": {},
   "outputs": [],
   "source": [
    "#no missing values in the dataset"
   ]
  },
  {
   "cell_type": "code",
   "execution_count": 107,
   "id": "bdec2b81",
   "metadata": {},
   "outputs": [],
   "source": [
    "#we can drop country because it is an extra column.. Already latitude and longitude give info about region\n",
    "wgr_data.drop(columns = ['country'], inplace=True)"
   ]
  },
  {
   "cell_type": "code",
   "execution_count": 108,
   "id": "8daa2d92",
   "metadata": {},
   "outputs": [],
   "source": [
    "# we can merge temperature columns and keep only one scale by dropping the other one'\n",
    "wgr_data['temperature_celsius'] = (wgr_data['temperature_fahrenheit'] - 32) * 5/9\n",
    "\n",
    "# Create a new column for merged temperature in Celsius\n",
    "wgr_data['temperature'] = wgr_data['temperature_celsius']\n",
    "\n",
    "# Drop the original Fahrenheit column\n",
    "wgr_data.drop(columns=['temperature_fahrenheit'], inplace=True)"
   ]
  },
  {
   "cell_type": "code",
   "execution_count": 109,
   "id": "60ea261a",
   "metadata": {},
   "outputs": [],
   "source": [
    "# we can do this for feels like temperature as well\n",
    "\n",
    "# we can merge temperature columns and keep only one scale by dropping the other one'\n",
    "wgr_data['feels_like_celsius'] = (wgr_data['feels_like_fahrenheit'] - 32) * 5/9\n",
    "\n",
    "# Create a new column for merged temperature in Celsius\n",
    "wgr_data['feels_like_temperature'] = wgr_data['feels_like_celsius']\n",
    "\n",
    "# Drop the original Fahrenheit column\n",
    "wgr_data.drop(columns=['feels_like_fahrenheit'], inplace=True)"
   ]
  },
  {
   "cell_type": "code",
   "execution_count": 110,
   "id": "40a0420f",
   "metadata": {},
   "outputs": [],
   "source": [
    "# Create a new column 'pressure' with values from 'pressure_mb' if 'pressure_mb' is available, otherwise use 'pressure_in'\n",
    "wgr_data['pressure'] = wgr_data['pressure_mb'].fillna(wgr_data['pressure_in'])\n",
    "\n",
    "# Drop the original 'pressure_mb' and 'pressure_in' columns\n",
    "wgr_data.drop(columns=['pressure_mb', 'pressure_in'], inplace=True)\n"
   ]
  },
  {
   "cell_type": "code",
   "execution_count": 111,
   "id": "7943a79f",
   "metadata": {},
   "outputs": [],
   "source": [
    "# Create a new column 'precipitation' with values from 'precip_mm' if 'precip_mm' is available, otherwise use 'precip_in'\n",
    "wgr_data['precipitation'] = wgr_data['precip_mm'].fillna(wgr_data['precip_in'])\n",
    "\n",
    "# Drop the original 'precip_mm' and 'precip_in' columns\n",
    "wgr_data.drop(columns=['precip_mm', 'precip_in'], inplace=True)\n"
   ]
  },
  {
   "cell_type": "code",
   "execution_count": 112,
   "id": "f3df115d",
   "metadata": {},
   "outputs": [],
   "source": [
    "# Create a new column 'visibility' with values from 'visibility_km' if 'visibility_km' is available, otherwise convert 'visibility_miles' to kilometers\n",
    "wgr_data['visibility'] = wgr_data['visibility_km'].fillna(wgr_data['visibility_miles'] * 1.60934)  # 1 mile = 1.60934 kilometers\n",
    "\n",
    "# Drop the original 'visibility_km' and 'visibility_miles' columns\n",
    "wgr_data.drop(columns=['visibility_km', 'visibility_miles'], inplace=True)\n"
   ]
  },
  {
   "cell_type": "code",
   "execution_count": 113,
   "id": "4c5be014",
   "metadata": {},
   "outputs": [
    {
     "data": {
      "text/plain": [
       "Index(['location_name', 'latitude', 'longitude', 'timezone',\n",
       "       'last_updated_epoch', 'last_updated', 'temperature_celsius',\n",
       "       'condition_text', 'wind_mph', 'wind_kph', 'wind_degree',\n",
       "       'wind_direction', 'humidity', 'cloud', 'feels_like_celsius', 'uv_index',\n",
       "       'gust_mph', 'gust_kph', 'air_quality_Carbon_Monoxide',\n",
       "       'air_quality_Ozone', 'air_quality_Nitrogen_dioxide',\n",
       "       'air_quality_Sulphur_dioxide', 'air_quality_PM2.5', 'air_quality_PM10',\n",
       "       'air_quality_us-epa-index', 'air_quality_gb-defra-index', 'sunrise',\n",
       "       'sunset', 'moonrise', 'moonset', 'moon_phase', 'moon_illumination',\n",
       "       'temperature', 'feels_like_temperature', 'pressure', 'precipitation',\n",
       "       'visibility'],\n",
       "      dtype='object')"
      ]
     },
     "execution_count": 113,
     "metadata": {},
     "output_type": "execute_result"
    }
   ],
   "source": [
    "wgr_data.columns\n"
   ]
  },
  {
   "cell_type": "code",
   "execution_count": null,
   "id": "31285e2e",
   "metadata": {},
   "outputs": [],
   "source": []
  },
  {
   "cell_type": "code",
   "execution_count": 114,
   "id": "aa1d33f3",
   "metadata": {},
   "outputs": [
    {
     "name": "stdout",
     "output_type": "stream",
     "text": [
      "<class 'pandas.core.frame.DataFrame'>\n",
      "RangeIndex: 7401 entries, 0 to 7400\n",
      "Data columns (total 37 columns):\n",
      " #   Column                        Non-Null Count  Dtype  \n",
      "---  ------                        --------------  -----  \n",
      " 0   location_name                 7401 non-null   object \n",
      " 1   latitude                      7401 non-null   float64\n",
      " 2   longitude                     7401 non-null   float64\n",
      " 3   timezone                      7401 non-null   object \n",
      " 4   last_updated_epoch            7401 non-null   int64  \n",
      " 5   last_updated                  7401 non-null   object \n",
      " 6   temperature_celsius           7401 non-null   float64\n",
      " 7   condition_text                7401 non-null   object \n",
      " 8   wind_mph                      7401 non-null   float64\n",
      " 9   wind_kph                      7401 non-null   float64\n",
      " 10  wind_degree                   7401 non-null   int64  \n",
      " 11  wind_direction                7401 non-null   object \n",
      " 12  humidity                      7401 non-null   int64  \n",
      " 13  cloud                         7401 non-null   int64  \n",
      " 14  feels_like_celsius            7401 non-null   float64\n",
      " 15  uv_index                      7401 non-null   float64\n",
      " 16  gust_mph                      7401 non-null   float64\n",
      " 17  gust_kph                      7401 non-null   float64\n",
      " 18  air_quality_Carbon_Monoxide   7401 non-null   float64\n",
      " 19  air_quality_Ozone             7401 non-null   float64\n",
      " 20  air_quality_Nitrogen_dioxide  7401 non-null   float64\n",
      " 21  air_quality_Sulphur_dioxide   7401 non-null   float64\n",
      " 22  air_quality_PM2.5             7401 non-null   float64\n",
      " 23  air_quality_PM10              7401 non-null   float64\n",
      " 24  air_quality_us-epa-index      7401 non-null   int64  \n",
      " 25  air_quality_gb-defra-index    7401 non-null   int64  \n",
      " 26  sunrise                       7401 non-null   object \n",
      " 27  sunset                        7401 non-null   object \n",
      " 28  moonrise                      7401 non-null   object \n",
      " 29  moonset                       7401 non-null   object \n",
      " 30  moon_phase                    7401 non-null   object \n",
      " 31  moon_illumination             7401 non-null   int64  \n",
      " 32  temperature                   7401 non-null   float64\n",
      " 33  feels_like_temperature        7401 non-null   float64\n",
      " 34  pressure                      7401 non-null   float64\n",
      " 35  precipitation                 7401 non-null   float64\n",
      " 36  visibility                    7401 non-null   float64\n",
      "dtypes: float64(20), int64(7), object(10)\n",
      "memory usage: 2.1+ MB\n"
     ]
    }
   ],
   "source": [
    "wgr_data.info()"
   ]
  },
  {
   "cell_type": "code",
   "execution_count": 115,
   "id": "cfc61188",
   "metadata": {
    "scrolled": true
   },
   "outputs": [
    {
     "name": "stdout",
     "output_type": "stream",
     "text": [
      "<class 'pandas.core.frame.DataFrame'>\n",
      "RangeIndex: 7401 entries, 0 to 7400\n",
      "Data columns (total 37 columns):\n",
      " #   Column                        Non-Null Count  Dtype  \n",
      "---  ------                        --------------  -----  \n",
      " 0   location_name                 7401 non-null   object \n",
      " 1   latitude                      7401 non-null   float64\n",
      " 2   longitude                     7401 non-null   float64\n",
      " 3   timezone                      7401 non-null   object \n",
      " 4   last_updated_epoch            7401 non-null   int64  \n",
      " 5   last_updated                  7401 non-null   object \n",
      " 6   temperature_celsius           7401 non-null   float64\n",
      " 7   condition_text                7401 non-null   object \n",
      " 8   wind_mph                      7401 non-null   float64\n",
      " 9   wind_kph                      7401 non-null   float64\n",
      " 10  wind_degree                   7401 non-null   int64  \n",
      " 11  wind_direction                7401 non-null   object \n",
      " 12  humidity                      7401 non-null   int64  \n",
      " 13  cloud                         7401 non-null   int64  \n",
      " 14  feels_like_celsius            7401 non-null   float64\n",
      " 15  uv_index                      7401 non-null   float64\n",
      " 16  gust_mph                      7401 non-null   float64\n",
      " 17  gust_kph                      7401 non-null   float64\n",
      " 18  air_quality_Carbon_Monoxide   7401 non-null   float64\n",
      " 19  air_quality_Ozone             7401 non-null   float64\n",
      " 20  air_quality_Nitrogen_dioxide  7401 non-null   float64\n",
      " 21  air_quality_Sulphur_dioxide   7401 non-null   float64\n",
      " 22  air_quality_PM2.5             7401 non-null   float64\n",
      " 23  air_quality_PM10              7401 non-null   float64\n",
      " 24  air_quality_us-epa-index      7401 non-null   int64  \n",
      " 25  air_quality_gb-defra-index    7401 non-null   int64  \n",
      " 26  sunrise                       7401 non-null   object \n",
      " 27  sunset                        7401 non-null   object \n",
      " 28  moonrise                      7401 non-null   object \n",
      " 29  moonset                       7401 non-null   object \n",
      " 30  moon_phase                    7401 non-null   object \n",
      " 31  moon_illumination             7401 non-null   int64  \n",
      " 32  temperature                   7401 non-null   float64\n",
      " 33  feels_like_temperature        7401 non-null   float64\n",
      " 34  pressure                      7401 non-null   float64\n",
      " 35  precipitation                 7401 non-null   float64\n",
      " 36  visibility                    7401 non-null   float64\n",
      "dtypes: float64(20), int64(7), object(10)\n",
      "memory usage: 2.1+ MB\n"
     ]
    }
   ],
   "source": [
    "wgr_data.info()"
   ]
  },
  {
   "cell_type": "code",
   "execution_count": null,
   "id": "08d23eb3",
   "metadata": {},
   "outputs": [],
   "source": [
    "\n",
    "\n",
    "\n",
    "   "
   ]
  },
  {
   "cell_type": "code",
   "execution_count": 116,
   "id": "45153437",
   "metadata": {},
   "outputs": [],
   "source": [
    "# Define your features (X) and target variable (y)\n",
    "X = wgr_data.drop(columns=['air_quality_us-epa-index'])  # Replace 'target_column' with the actual target variable name\n",
    "y = wgr_data['air_quality_us-epa-index']"
   ]
  },
  {
   "cell_type": "code",
   "execution_count": 117,
   "id": "9df2db3e",
   "metadata": {},
   "outputs": [
    {
     "data": {
      "image/png": "[encoded data removed]",
      "text/plain": [
       "<Figure size 640x480 with 1 Axes>"
      ]
     },
     "metadata": {},
     "output_type": "display_data"
    }
   ],
   "source": [
    "import matplotlib.pyplot as plt\n",
    "\n",
    "# Assuming 'y' is your target variable\n",
    "plt.hist(y, bins='auto')\n",
    "plt.xlabel('Class')\n",
    "plt.ylabel('Frequency')\n",
    "plt.title('Class Distribution')\n",
    "plt.show()\n"
   ]
  },
  {
   "cell_type": "code",
   "execution_count": 118,
   "id": "23142aa7",
   "metadata": {
    "scrolled": false
   },
   "outputs": [],
   "source": [
    "from sklearn.model_selection import train_test_split\n",
    "from sklearn.preprocessing import LabelEncoder\n",
    "X_train, X_test, y_train, y_test = train_test_split(X, y, test_size=0.2, random_state=42,stratify=y)\n",
    "encode = LabelEncoder() \n",
    "x =['location_name', 'timezone', 'last_updated',\n",
    "       'condition_text', 'wind_direction', 'sunrise', 'sunset', 'moonrise', 'moonset','moon_phase'] \n",
    "\n",
    "for i in x:\n",
    "    X_train[i] = encode.fit_transform(X_train[i])#transforming categorical features\n",
    "    X_test[i] = encode.fit_transform(X_test[i])#transforming categorical features\n"
   ]
  },
  {
   "cell_type": "code",
   "execution_count": 119,
   "id": "1f568834",
   "metadata": {},
   "outputs": [
    {
     "name": "stdout",
     "output_type": "stream",
     "text": [
      "<class 'pandas.core.frame.DataFrame'>\n",
      "Int64Index: 5920 entries, 2923 to 5032\n",
      "Data columns (total 36 columns):\n",
      " #   Column                        Non-Null Count  Dtype  \n",
      "---  ------                        --------------  -----  \n",
      " 0   location_name                 5920 non-null   int32  \n",
      " 1   latitude                      5920 non-null   float64\n",
      " 2   longitude                     5920 non-null   float64\n",
      " 3   timezone                      5920 non-null   int32  \n",
      " 4   last_updated_epoch            5920 non-null   int64  \n",
      " 5   last_updated                  5920 non-null   int32  \n",
      " 6   temperature_celsius           5920 non-null   float64\n",
      " 7   condition_text                5920 non-null   int32  \n",
      " 8   wind_mph                      5920 non-null   float64\n",
      " 9   wind_kph                      5920 non-null   float64\n",
      " 10  wind_degree                   5920 non-null   int64  \n",
      " 11  wind_direction                5920 non-null   int32  \n",
      " 12  humidity                      5920 non-null   int64  \n",
      " 13  cloud                         5920 non-null   int64  \n",
      " 14  feels_like_celsius            5920 non-null   float64\n",
      " 15  uv_index                      5920 non-null   float64\n",
      " 16  gust_mph                      5920 non-null   float64\n",
      " 17  gust_kph                      5920 non-null   float64\n",
      " 18  air_quality_Carbon_Monoxide   5920 non-null   float64\n",
      " 19  air_quality_Ozone             5920 non-null   float64\n",
      " 20  air_quality_Nitrogen_dioxide  5920 non-null   float64\n",
      " 21  air_quality_Sulphur_dioxide   5920 non-null   float64\n",
      " 22  air_quality_PM2.5             5920 non-null   float64\n",
      " 23  air_quality_PM10              5920 non-null   float64\n",
      " 24  air_quality_gb-defra-index    5920 non-null   int64  \n",
      " 25  sunrise                       5920 non-null   int32  \n",
      " 26  sunset                        5920 non-null   int32  \n",
      " 27  moonrise                      5920 non-null   int32  \n",
      " 28  moonset                       5920 non-null   int32  \n",
      " 29  moon_phase                    5920 non-null   int32  \n",
      " 30  moon_illumination             5920 non-null   int64  \n",
      " 31  temperature                   5920 non-null   float64\n",
      " 32  feels_like_temperature        5920 non-null   float64\n",
      " 33  pressure                      5920 non-null   float64\n",
      " 34  precipitation                 5920 non-null   float64\n",
      " 35  visibility                    5920 non-null   float64\n",
      "dtypes: float64(20), int32(10), int64(6)\n",
      "memory usage: 1.4 MB\n"
     ]
    }
   ],
   "source": [
    "X_train.info()\n",
    "from sklearn.model_selection import train_test_split\n",
    "from sklearn.preprocessing import LabelEncoder\n",
    "from sklearn.naive_bayes import GaussianNB\n",
    "from sklearn.tree import DecisionTreeClassifier\n",
    "from sklearn.ensemble import RandomForestClassifier\n",
    "from sklearn.metrics import accuracy_score"
   ]
  },
  {
   "cell_type": "code",
   "execution_count": 120,
   "id": "ee501822",
   "metadata": {},
   "outputs": [
    {
     "data": {
      "text/plain": [
       "DecisionTreeClassifier(max_depth=4)"
      ]
     },
     "execution_count": 120,
     "metadata": {},
     "output_type": "execute_result"
    }
   ],
   "source": [
    "clf = DecisionTreeClassifier(max_depth=4)  # You can adjust hyperparameters as needed\n",
    "clf.fit(X_train, y_train)"
   ]
  },
  {
   "cell_type": "code",
   "execution_count": 121,
   "id": "f1b456cb",
   "metadata": {},
   "outputs": [],
   "source": [
    "y_pred = clf.predict(X_test)"
   ]
  },
  {
   "cell_type": "code",
   "execution_count": 122,
   "id": "65a17e45",
   "metadata": {},
   "outputs": [
    {
     "name": "stdout",
     "output_type": "stream",
     "text": [
      "Accuracy: 0.9918973666441594\n",
      "Precision (Macro): 0.7592592592592592\n",
      "Recall (Macro): 0.8333333333333334\n",
      "Precision (Weighted): 0.9873959036686922\n",
      "Recall (Weighted): 0.9918973666441594\n"
     ]
    },
    {
     "name": "stderr",
     "output_type": "stream",
     "text": [
      "C:\\Users\\anany\\anaconda3\\lib\\site-packages\\sklearn\\metrics\\_classification.py:1318: UndefinedMetricWarning: Precision is ill-defined and being set to 0.0 in labels with no predicted samples. Use `zero_division` parameter to control this behavior.\n",
      "  _warn_prf(average, modifier, msg_start, len(result))\n",
      "C:\\Users\\anany\\anaconda3\\lib\\site-packages\\sklearn\\metrics\\_classification.py:1318: UndefinedMetricWarning: Precision is ill-defined and being set to 0.0 in labels with no predicted samples. Use `zero_division` parameter to control this behavior.\n",
      "  _warn_prf(average, modifier, msg_start, len(result))\n"
     ]
    }
   ],
   "source": [
    "from sklearn.metrics import accuracy_score, precision_score, recall_score\n",
    "\n",
    "# Assuming you have already trained your model and made predictions\n",
    "y_pred = clf.predict(X_test)\n",
    "\n",
    "# Calculate accuracy\n",
    "accuracy = accuracy_score(y_test, y_pred)\n",
    "\n",
    "# Calculate precision and recall with 'macro' average\n",
    "precision_macro = precision_score(y_test, y_pred, average='macro')\n",
    "recall_macro = recall_score(y_test, y_pred, average='macro')\n",
    "\n",
    "# Calculate precision and recall with 'weighted' average\n",
    "precision_weighted = precision_score(y_test, y_pred, average='weighted')\n",
    "recall_weighted = recall_score(y_test, y_pred, average='weighted')\n",
    "\n",
    "print(\"Accuracy:\", accuracy)\n",
    "print(\"Precision (Macro):\", precision_macro)\n",
    "print(\"Recall (Macro):\", recall_macro)\n",
    "print(\"Precision (Weighted):\", precision_weighted)\n",
    "print(\"Recall (Weighted):\", recall_weighted)\n"
   ]
  },
  {
   "cell_type": "code",
   "execution_count": 123,
   "id": "4dde31c7",
   "metadata": {},
   "outputs": [
    {
     "name": "stdout",
     "output_type": "stream",
     "text": [
      "Accuracy: 0.9918973666441594\n",
      "Precision (Macro): 0.7592592592592592\n",
      "Recall (Macro): 0.8333333333333334\n",
      "Precision (Weighted): 0.9873959036686922\n",
      "Recall (Weighted): 0.9918973666441594\n"
     ]
    },
    {
     "name": "stderr",
     "output_type": "stream",
     "text": [
      "C:\\Users\\anany\\anaconda3\\lib\\site-packages\\sklearn\\metrics\\_classification.py:1318: UndefinedMetricWarning: Precision is ill-defined and being set to 0.0 in labels with no predicted samples. Use `zero_division` parameter to control this behavior.\n",
      "  _warn_prf(average, modifier, msg_start, len(result))\n",
      "C:\\Users\\anany\\anaconda3\\lib\\site-packages\\sklearn\\metrics\\_classification.py:1318: UndefinedMetricWarning: Precision is ill-defined and being set to 0.0 in labels with no predicted samples. Use `zero_division` parameter to control this behavior.\n",
      "  _warn_prf(average, modifier, msg_start, len(result))\n"
     ]
    }
   ],
   "source": [
    "# Create a Logistic Regression model\n",
    "classifier = LogisticRegression()\n",
    "\n",
    "# Train the model on the training data\n",
    "classifier.fit(X_train, y_train)\n",
    "# Calculate accuracy\n",
    "accuracy = accuracy_score(y_test, y_pred)\n",
    "\n",
    "# Calculate precision and recall with 'macro' average\n",
    "precision_macro = precision_score(y_test, y_pred, average='macro')\n",
    "recall_macro = recall_score(y_test, y_pred, average='macro')\n",
    "\n",
    "# Calculate precision and recall with 'weighted' average\n",
    "precision_weighted = precision_score(y_test, y_pred, average='weighted')\n",
    "recall_weighted = recall_score(y_test, y_pred, average='weighted')\n",
    "\n",
    "print(\"Accuracy:\", accuracy)\n",
    "print(\"Precision (Macro):\", precision_macro)\n",
    "print(\"Recall (Macro):\", recall_macro)\n",
    "print(\"Precision (Weighted):\", precision_weighted)\n",
    "print(\"Recall (Weighted):\", recall_weighted)\n"
   ]
  },
  {
   "cell_type": "code",
   "execution_count": 124,
   "id": "eb289af0",
   "metadata": {},
   "outputs": [
    {
     "name": "stdout",
     "output_type": "stream",
     "text": [
      "Mean Squared Error: 0.15404036705765164\n",
      "R-squared: 0.8242616410219656\n"
     ]
    }
   ],
   "source": [
    "from sklearn.linear_model import LinearRegression\n",
    "from sklearn.linear_model import LogisticRegression\n",
    "from sklearn.metrics import mean_squared_error\n",
    "from sklearn.metrics import r2_score\n",
    "regressor = LinearRegression()\n",
    "\n",
    "# Train the model on the training data\n",
    "regressor.fit(X_train, y_train)\n",
    "y_pred = regressor.predict(X_test)\n",
    "mse = mean_squared_error(y_test, y_pred)\n",
    "r2 = r2_score(y_test, y_pred)\n",
    "\n",
    "print(\"Mean Squared Error:\", mse)\n",
    "print(\"R-squared:\", r2)\n"
   ]
  },
  {
   "cell_type": "code",
   "execution_count": 125,
   "id": "dcf00d9f",
   "metadata": {},
   "outputs": [
    {
     "data": {
      "image/png": "[encoded data removed]",
      "text/plain": [
       "<Figure size 640x480 with 1 Axes>"
      ]
     },
     "metadata": {},
     "output_type": "display_data"
    }
   ],
   "source": [
    "import pandas as pd\n",
    "from sklearn.cluster import KMeans\n",
    "import matplotlib.pyplot as plt\n",
    "encode = LabelEncoder() \n",
    "x =['location_name', 'timezone', 'last_updated',\n",
    "       'condition_text', 'wind_direction', 'sunrise', 'sunset', 'moonrise', 'moonset','moon_phase'] \n",
    "\n",
    "for i in x:\n",
    "    wgr_data[i] = encode.fit_transform(wgr_data[i])#transforming categorical features\n",
    "\n",
    "\n",
    "selected_columns = wgr_data.drop(columns=['location_name', 'last_updated_epoch'])\n",
    "\n",
    "# Create a K-means clustering model\n",
    "kmeans = KMeans(n_clusters=10, random_state=42)\n",
    "\n",
    "# Fit the model to your data\n",
    "kmeans.fit(selected_columns)\n",
    "\n",
    "# Get cluster labels for each data point\n",
    "cluster_labels = kmeans.labels_\n",
    "\n",
    "# Add cluster labels back to your dataset\n",
    "wgr_data['cluster'] = cluster_labels\n",
    "\n",
    "# Visualize the clusters (for 2D data, you may need to use dimensionality reduction techniques for high-dimensional data)\n",
    "# Example: Scatter plot for latitude and longitude\n",
    "plt.scatter(wgr_data['latitude'], wgr_data['longitude'], c=cluster_labels, cmap='viridis')\n",
    "plt.xlabel('Latitude')\n",
    "plt.ylabel('Longitude')\n",
    "plt.title('K-means Clustering')\n",
    "plt.show()\n",
    "\n",
    "# You can explore and analyze the clusters further based on your problem and goals\n",
    "# For example, examine cluster statistics or feature importance within each cluster\n"
   ]
  },
  {
   "cell_type": "code",
   "execution_count": 126,
   "id": "81e61590",
   "metadata": {},
   "outputs": [],
   "source": [
    "# Naive Bayes (Gaussian)\n",
    "nb_classifier = GaussianNB()\n",
    "nb_classifier.fit(X_train, y_train)\n",
    "nb_pred = nb_classifier.predict(X_test)\n",
    "nb_accuracy = accuracy_score(y_test, nb_pred)"
   ]
  },
  {
   "cell_type": "code",
   "execution_count": 127,
   "id": "062a2fac",
   "metadata": {},
   "outputs": [],
   "source": [
    "from sklearn.linear_model import LogisticRegression\n",
    "from sklearn.metrics import accuracy_score\n",
    "\n",
    "# Create a Logistic Regression classifier\n",
    "logreg_classifier = LogisticRegression()\n",
    "\n",
    "# Fit the model on the training data\n",
    "logreg_classifier.fit(X_train, y_train)\n",
    "\n",
    "# Make predictions on the test data\n",
    "logreg_pred = logreg_classifier.predict(X_test)\n",
    "\n",
    "# Calculate accuracy\n",
    "logreg_accuracy = accuracy_score(y_test, logreg_pred)\n"
   ]
  },
  {
   "cell_type": "code",
   "execution_count": 128,
   "id": "a4b969be",
   "metadata": {},
   "outputs": [],
   "source": [
    "# Random Forest\n",
    "rf_classifier = RandomForestClassifier()\n",
    "rf_classifier.fit(X_train, y_train)\n",
    "rf_pred = rf_classifier.predict(X_test)"
   ]
  },
  {
   "cell_type": "code",
   "execution_count": 129,
   "id": "2a8d16b9",
   "metadata": {},
   "outputs": [
    {
     "name": "stdout",
     "output_type": "stream",
     "text": [
      "KNN Accuracy: 0.6495611073598919\n"
     ]
    },
    {
     "name": "stderr",
     "output_type": "stream",
     "text": [
      "C:\\Users\\anany\\anaconda3\\lib\\site-packages\\sklearn\\neighbors\\_classification.py:228: FutureWarning: Unlike other reduction functions (e.g. `skew`, `kurtosis`), the default behavior of `mode` typically preserves the axis it acts along. In SciPy 1.11.0, this behavior will change: the default value of `keepdims` will become False, the `axis` over which the statistic is taken will be eliminated, and the value None will no longer be accepted. Set `keepdims` to True or False to avoid this warning.\n",
      "  mode, _ = stats.mode(_y[neigh_ind, k], axis=1)\n"
     ]
    }
   ],
   "source": [
    "from sklearn.neighbors import KNeighborsClassifier\n",
    "from sklearn.metrics import accuracy_score\n",
    "\n",
    "# Create a KNN classifier\n",
    "knn_classifier = KNeighborsClassifier(n_neighbors=3)  # You can adjust the number of neighbors\n",
    "\n",
    "# Train the KNN classifier\n",
    "knn_classifier.fit(X_train, y_train)\n",
    "\n",
    "# Make predictions using the KNN classifier\n",
    "knn_pred = knn_classifier.predict(X_test)\n",
    "\n",
    "# Calculate the accuracy of the KNN classifier\n",
    "knn_accuracy = accuracy_score(y_test, knn_pred)\n",
    "\n",
    "print(\"KNN Accuracy:\", knn_accuracy)\n"
   ]
  },
  {
   "cell_type": "code",
   "execution_count": 130,
   "id": "9f962491",
   "metadata": {},
   "outputs": [
    {
     "name": "stdout",
     "output_type": "stream",
     "text": [
      "KNN Accuracy: 0.6495611073598919\n"
     ]
    }
   ],
   "source": [
    "\n",
    "print(\"KNN Accuracy:\", knn_accuracy)\n"
   ]
  },
  {
   "cell_type": "code",
   "execution_count": 132,
   "id": "650e4011",
   "metadata": {},
   "outputs": [
    {
     "name": "stdout",
     "output_type": "stream",
     "text": [
      "Random Forest Accuracy: 0.9959486833220796\n"
     ]
    }
   ],
   "source": [
    "rf_accuracy = accuracy_score(y_test, rf_pred)\n",
    "print(\"Random Forest Accuracy:\", rf_accuracy)"
   ]
  },
  {
   "cell_type": "code",
   "execution_count": 133,
   "id": "2a0ea87c",
   "metadata": {},
   "outputs": [
    {
     "name": "stdout",
     "output_type": "stream",
     "text": [
      "0.6833220796758946\n"
     ]
    }
   ],
   "source": [
    "print(logreg_accuracy)"
   ]
  },
  {
   "cell_type": "code",
   "execution_count": 134,
   "id": "9b8528e8",
   "metadata": {},
   "outputs": [
    {
     "name": "stdout",
     "output_type": "stream",
     "text": [
      "Naive Bayes (GaussianNB) Accuracy: 0.7987846049966238\n"
     ]
    }
   ],
   "source": [
    "nb_accuracy = accuracy_score(y_test, nb_pred)\n",
    "print(\"Naive Bayes (GaussianNB) Accuracy:\", nb_accuracy)"
   ]
  },
  {
   "cell_type": "code",
   "execution_count": null,
   "id": "526fea42",
   "metadata": {},
   "outputs": [],
   "source": []
  }
 ],
 "metadata": {
  "kernelspec": {
   "display_name": "Python 3 (ipykernel)",
   "language": "python",
   "name": "python3"
  },
  "language_info": {
   "codemirror_mode": {
    "name": "ipython",
    "version": 3
   },
   "file_extension": ".py",
   "mimetype": "text/x-python",
   "name": "python",
   "nbconvert_exporter": "python",
   "pygments_lexer": "ipython3",
   "version": "3.9.13"
  }
 },
 "nbformat": 4,
 "nbformat_minor": 5
}
